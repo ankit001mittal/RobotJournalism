{
 "cells": [
  {
   "cell_type": "code",
   "execution_count": 10,
   "metadata": {},
   "outputs": [],
   "source": [
    "from selenium import webdriver\n",
    "from selenium.webdriver.common.keys import Keys\n",
    "import time\n",
    "import os.path\n",
    "import sys\n",
    "from selenium.webdriver.support.ui import WebDriverWait\n",
    "from selenium.webdriver.support import expected_conditions as EC\n",
    "from selenium.webdriver.common.by import By\n",
    "from selenium.common.exceptions import TimeoutException"
   ]
  },
  {
   "cell_type": "code",
   "execution_count": 11,
   "metadata": {},
   "outputs": [],
   "source": [
    "# importing the necessary packages\n",
    "import requests\n",
    "from bs4 import BeautifulSoup\n",
    "import re\n",
    "import json\n",
    "import os\n",
    "\n",
    "def getReferee(soup1):\n",
    "    referee = soup1.find_all('div', class_ = \"referee\")\n",
    "    for i in referee:\n",
    "        s = i.get_text()\n",
    "        match_data['Referee'] = s.strip()\n",
    "\n",
    "def getStadiumName(soup1):\n",
    "    stadium =  soup1.find_all('div', class_ = \"stadium\")\n",
    "    for i in stadium:\n",
    "        s = i.get_text()\n",
    "        match_data['Stadium'] = s.strip()\n",
    "\n",
    "def getFullTimeScore(soup1):\n",
    "    match_events = soup1.find_all('div',class_=\"score fullTime\")\n",
    "    for i in match_events:\n",
    "        s = i.get_text()\n",
    "        txt = (s.strip().split('-'))\n",
    "        match_data['TotalHomeGoals'] = txt[0]\n",
    "        match_data['TotalAwayGoals'] = txt[1]     \n",
    "\n",
    "## get the team names which played against each other\n",
    "def getTeamNames(soup1):\n",
    "    Name = []\n",
    "    teamNames = soup1.find_all('span',class_='long')\n",
    "    for i in teamNames:\n",
    "        Name.append(i.get_text())\n",
    "    match_data['HomeTeam'] = Name[0]\n",
    "    match_data['AwayTeam'] = Name[1]\n",
    "\n",
    "def getHomeTeamMatchEvents(soup1):\n",
    "    xyz = (soup1.find_all('div', class_=\"matchEvents matchEventsContainer\"))\n",
    "    for ptag in xyz:\n",
    "        for i in ptag.find_all('div', class_=\"home\"):\n",
    "            for x in i.find_all('div', {'aria-live':'polite'}):\n",
    "                s = x.text\n",
    "                txt = (re.sub(r\"\\s+\", \"\", s)) \n",
    "                if re.search(\"^.*Goal*\", txt):\n",
    "                    match_data['HomeGoalScorer'].append(getGoals(txt))\n",
    "                elif re.search(\"^.*Card*\", txt):\n",
    "                    match_data['HomeTeamFouls'].append(getFouls(txt))\n",
    "                elif re.search(\"^.*penalty*\", txt):\n",
    "                    match_data[\"HomeGoalScorer\"].append(getPenalty(txt))\n",
    "                else:\n",
    "                    print(\"No match\")\n",
    "\n",
    "def getAwayTeamMatchEvents(soup1):\n",
    "    xyz = (soup1.find_all('div', class_=\"matchEvents matchEventsContainer\"))\n",
    "    for ptag in xyz:\n",
    "        for i in ptag.find_all('div', class_=\"away\"):\n",
    "            for x in i.find_all('div', {'aria-live':'polite'}):\n",
    "                s = x.text\n",
    "                txt = (re.sub(r\"\\s+\", \"\", s)) \n",
    "                if re.search(\"^.*Goal*\", txt):\n",
    "                    match_data['AwayGoalScorer'].append(getGoals(txt))\n",
    "                elif re.search(\"^.*Card*\", txt):\n",
    "                    match_data['AwayTeamFouls'].append(getFouls(txt))\n",
    "                elif re.search(\"^.*penalty*\", txt):\n",
    "                    match_data[\"AwayGoalScorer\"].append(getPenalty(txt))\n",
    "                else:\n",
    "                    print(\"No match\")\n",
    "\n",
    "def getGoals(txt):\n",
    "    goals = {}\n",
    "    goal = re.findall(r\"[^\\W\\d_]+|\\d+\",txt)\n",
    "    goals[\"Player\"] = \" \".join(re.findall('[A-Z][^A-Z]*', goal[0]))\n",
    "    goals[\"Time\"] = goal[1]\n",
    "    goals[\"Type\"] = \"Goal\"\n",
    "    return goals\n",
    "\n",
    "def getFouls(txt):\n",
    "    fouls = {}\n",
    "    foul = re.findall(r\"[^\\W\\d_]+|\\d+\",txt)\n",
    "    fouls[\"Player\"] = \" \".join(re.findall('[A-Z][^A-Z]*', foul[0]))\n",
    "    fouls[\"Time\"] = foul[1]\n",
    "    fouls[\"Card\"] = \" \".join(re.findall('[A-Z][^A-Z]*', foul[2]))\n",
    "    return fouls\n",
    "\n",
    "def getPenalty(txt):\n",
    "    Penalties = {}\n",
    "    Penalty = re.findall(r\"[^\\W\\d_]+|\\d+\",txt)\n",
    "    Penalties[\"Player\"] = \" \".join(re.findall('[A-Z][^A-Z]*', Penalty[0]))\n",
    "    Penalties[\"Time\"] = Penalty[1]\n",
    "    Penalties[\"Type\"] = \"Penalty\"\n",
    "    return Penalties\n",
    "\n",
    "def getHomeAssists(soup1):\n",
    "    xyz = (soup1.find_all('div', class_=\"matchAssistsContainer\"))\n",
    "    for ptag in xyz:\n",
    "        for i in ptag.find_all('div', class_=\"home\"):\n",
    "            for x in i.find_all('div', class_=\"event\"):\n",
    "                s = x.text\n",
    "                txt = (re.sub(r\"\\s+\", \"\", s)) \n",
    "                if txt is not None:\n",
    "                    match_data['HomeTeamAssist'].append(getAssists(txt))\n",
    "                else:\n",
    "                    print(\"No match\")\n",
    "                    \n",
    "\n",
    "def getAwayAssists(soup1):\n",
    "    xyz = (soup1.find_all('div', class_=\"matchAssistsContainer\"))\n",
    "    for ptag in xyz:\n",
    "        for i in ptag.find_all('div', class_=\"away\"):\n",
    "            for x in i.find_all('div', class_=\"event\"):\n",
    "                s = x.text\n",
    "                txt = (re.sub(r\"\\s+\", \"\", s)) \n",
    "                if txt is not None:\n",
    "                    match_data['AwayTeamAssist'].append(getAssists(txt))\n",
    "                else:\n",
    "                    print(\"No match\")\n",
    "\n",
    "                    \n",
    "def getAssists(txt):\n",
    "    assists = {'Time': []}\n",
    "    assist = re.findall(r\"[^\\W\\d_]+|\\d+\",txt)\n",
    "    assists[\"Player\"] = \" \".join(re.findall('[A-Z][^A-Z]*', assist[0]))\n",
    "    for i in range(1,len(assist)):   \n",
    "        assists['Time'].append(assist[i])\n",
    "    return assists\n",
    "\n",
    "\n",
    "def getDictionary(match_id):\n",
    "    url = \"https://www.premierleague.com/match/\" + match_id\n",
    "    \n",
    "    r1 = requests.get(url)\n",
    "    coverpage = r1.content\n",
    "\n",
    "    soup1 = BeautifulSoup(coverpage, 'html5lib')\n",
    "    \n",
    "    getReferee(soup1)\n",
    "    getStadiumName(soup1)\n",
    "    getFullTimeScore(soup1)\n",
    "    getTeamNames(soup1)\n",
    "    getHomeTeamMatchEvents(soup1)\n",
    "    getAwayTeamMatchEvents(soup1)\n",
    "    getHomeAssists(soup1)\n",
    "    getAwayAssists(soup1)\n",
    "    \n",
    "    filename = match_id +'.json'\n",
    "    with open(os.path.join(\"/Users/ankitmittal/Desktop/Thesis/Project/data/matchdata/\", filename), \"w\") as outfile:  \n",
    "        json.dump(match_data, outfile)\n",
    "    \n",
    "#     print(match_data)"
   ]
  },
  {
   "cell_type": "code",
   "execution_count": 3,
   "metadata": {},
   "outputs": [],
   "source": [
    "driver = webdriver.Chrome('/Users/ankitmittal/Downloads/chromedriver')\n",
    "driver.get(\"https://www.premierleague.com/results?co=1&se=54&cl=-1&team=FIRST\")"
   ]
  },
  {
   "cell_type": "code",
   "execution_count": 4,
   "metadata": {},
   "outputs": [],
   "source": [
    "## Scrolling down till the end of the page\n",
    "\n",
    "lenOfPage = driver.execute_script(\"window.scrollTo(0, document.body.scrollHeight);var lenOfPage=document.body.scrollHeight;return lenOfPage;\")\n",
    "match=False\n",
    "while(match==False):\n",
    "    lastCount = lenOfPage\n",
    "    time.sleep(10)\n",
    "    lenOfPage = driver.execute_script(\"window.scrollTo(0, document.body.scrollHeight);var lenOfPage=document.body.scrollHeight;return lenOfPage;\")\n",
    "    if lastCount==lenOfPage:\n",
    "        match=True"
   ]
  },
  {
   "cell_type": "code",
   "execution_count": 5,
   "metadata": {},
   "outputs": [],
   "source": [
    "IPs = driver.find_elements_by_class_name('matchFixtureContainer')"
   ]
  },
  {
   "cell_type": "code",
   "execution_count": 6,
   "metadata": {},
   "outputs": [],
   "source": [
    "match_ids = []\n",
    "for ip in IPs:\n",
    "    match_ids.append(ip.get_attribute(\"data-comp-match-item\"))"
   ]
  },
  {
   "cell_type": "code",
   "execution_count": 7,
   "metadata": {},
   "outputs": [
    {
     "data": {
      "text/plain": [
       "380"
      ]
     },
     "execution_count": 7,
     "metadata": {},
     "output_type": "execute_result"
    }
   ],
   "source": [
    "len(match_ids)"
   ]
  },
  {
   "cell_type": "code",
   "execution_count": 8,
   "metadata": {},
   "outputs": [],
   "source": [
    "url = \"https://www.premierleague.com/match/\"\n",
    "delay = 3 # seconds\n",
    "orig_stdout = sys.stdout"
   ]
  },
  {
   "cell_type": "code",
   "execution_count": 10,
   "metadata": {},
   "outputs": [],
   "source": [
    "for i in match_ids:\n",
    "    driver.get(url + i)\n",
    "    try:\n",
    "        element_present = EC.presence_of_element_located((By.CLASS_NAME, 'standardArticle'))\n",
    "        WebDriverWait(driver, delay).until(element_present)\n",
    "    except TimeoutException:\n",
    "        print(\"Timed out waiting for page to load\")\n",
    "    IPs = driver.find_elements_by_xpath(\"/html/body/main/div/section[2]/div[2]/div[2]/div[2]/section[1]/div/div[1]/div[3]/section/div/div/div/div/div\")\n",
    "    filename = i + \".txt\"   \n",
    "    for ip in IPs:\n",
    "        with open(os.path.join(\"/Users/ankitmittal/Desktop/Thesis/Project/data/articles\", filename) , 'w') as f:\n",
    "            sys.stdout = f # Change the standard output to the file we created.\n",
    "            print(ip.text)\n",
    "            sys.stdout = orig_stdout\n",
    "        f.close()"
   ]
  },
  {
   "cell_type": "code",
   "execution_count": 12,
   "metadata": {},
   "outputs": [],
   "source": [
    "for match_id in match_ids:\n",
    "    match_data = {\n",
    "        'HomeGoalScorer':[],\n",
    "        'AwayGoalScorer':[],\n",
    "        'HomeTeamFouls':[],\n",
    "        'AwayTeamFouls':[],\n",
    "        'HomeTeamAssist':[],\n",
    "        'AwayTeamAssist':[]\n",
    "    }\n",
    "\n",
    "    getDictionary(match_id)"
   ]
  },
  {
   "cell_type": "code",
   "execution_count": 9,
   "metadata": {},
   "outputs": [],
   "source": [
    "soup1."
   ]
  },
  {
   "cell_type": "code",
   "execution_count": null,
   "metadata": {},
   "outputs": [],
   "source": []
  }
 ],
 "metadata": {
  "kernelspec": {
   "display_name": "Python 3",
   "language": "python",
   "name": "python3"
  },
  "language_info": {
   "codemirror_mode": {
    "name": "ipython",
    "version": 3
   },
   "file_extension": ".py",
   "mimetype": "text/x-python",
   "name": "python",
   "nbconvert_exporter": "python",
   "pygments_lexer": "ipython3",
   "version": "3.7.3"
  }
 },
 "nbformat": 4,
 "nbformat_minor": 4
}
