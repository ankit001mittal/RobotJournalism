{
 "cells": [
  {
   "cell_type": "code",
   "execution_count": 3,
   "metadata": {},
   "outputs": [],
   "source": [
    "# importing the necessary packages\n",
    "import requests\n",
    "from bs4 import BeautifulSoup\n",
    "import re\n",
    "import json\n",
    "import os"
   ]
  },
  {
   "cell_type": "code",
   "execution_count": 17,
   "metadata": {},
   "outputs": [],
   "source": [
    "def getReferee(soup1):\n",
    "    referee = soup1.find_all('div', class_ = \"referee\")\n",
    "    for i in referee:\n",
    "        s = i.get_text()\n",
    "        match_data['Referee'] = s.strip()"
   ]
  },
  {
   "cell_type": "code",
   "execution_count": 18,
   "metadata": {},
   "outputs": [],
   "source": [
    "def getStadiumName(soup1):\n",
    "    stadium =  soup1.find_all('div', class_ = \"stadium\")\n",
    "    for i in stadium:\n",
    "        s = i.get_text()\n",
    "        match_data['Stadium'] = s.strip()"
   ]
  },
  {
   "cell_type": "code",
   "execution_count": 19,
   "metadata": {},
   "outputs": [],
   "source": [
    "def getFullTimeScore(soup1):\n",
    "    match_events = soup1.find_all('div',class_=\"score fullTime\")\n",
    "    for i in match_events:\n",
    "        s = i.get_text()\n",
    "        txt = (s.strip().split('-'))\n",
    "        match_data['TotalHomeGoals'] = txt[0]\n",
    "        match_data['TotalAwayGoals'] = txt[1]     "
   ]
  },
  {
   "cell_type": "code",
   "execution_count": 20,
   "metadata": {},
   "outputs": [],
   "source": [
    "## get the team names which played against each other\n",
    "def getTeamNames(soup1):\n",
    "    Name = []\n",
    "    teamNames = soup1.find_all('span',class_='long')\n",
    "    for i in teamNames:\n",
    "        Name.append(i.get_text())\n",
    "    match_data['HomeTeam'] = Name[0]\n",
    "    match_data['AwayTeam'] = Name[1]"
   ]
  },
  {
   "cell_type": "code",
   "execution_count": 21,
   "metadata": {
    "scrolled": true
   },
   "outputs": [],
   "source": [
    "def getHomeTeamMatchEvents(soup1):\n",
    "    xyz = (soup1.find_all('div', class_=\"matchEvents matchEventsContainer\"))\n",
    "    for ptag in xyz:\n",
    "        for i in ptag.find_all('div', class_=\"home\"):\n",
    "            for x in i.find_all('div', {'aria-live':'polite'}):\n",
    "                s = x.text\n",
    "                txt = (re.sub(r\"\\s+\", \"\", s)) \n",
    "                if re.search(\"^.*Goal*\", txt):\n",
    "                    match_data['HomeGoalScorer'].append(getGoals(txt))\n",
    "                elif re.search(\"^.*Card*\", txt):\n",
    "                    match_data['HomeTeamFouls'].append(getFouls(txt))\n",
    "                elif re.search(\"^.*penalty*\", txt):\n",
    "                    match_data[\"HomeGoalScorer\"].append(getPenalty(txt))\n",
    "                else:\n",
    "                    print(\"No match\")"
   ]
  },
  {
   "cell_type": "code",
   "execution_count": 22,
   "metadata": {},
   "outputs": [],
   "source": [
    "def getAwayTeamMatchEvents(soup1):\n",
    "    xyz = (soup1.find_all('div', class_=\"matchEvents matchEventsContainer\"))\n",
    "    for ptag in xyz:\n",
    "        for i in ptag.find_all('div', class_=\"away\"):\n",
    "            for x in i.find_all('div', {'aria-live':'polite'}):\n",
    "                s = x.text\n",
    "                txt = (re.sub(r\"\\s+\", \"\", s)) \n",
    "                if re.search(\"^.*Goal*\", txt):\n",
    "                    match_data['AwayGoalScorer'].append(getGoals(txt))\n",
    "                elif re.search(\"^.*Card*\", txt):\n",
    "                    match_data['AwayTeamFouls'].append(getFouls(txt))\n",
    "                elif re.search(\"^.*penalty*\", txt):\n",
    "                    match_data[\"AwayGoalScorer\"].append(getPenalty(txt))\n",
    "                else:\n",
    "                    print(\"No match\")"
   ]
  },
  {
   "cell_type": "code",
   "execution_count": 23,
   "metadata": {},
   "outputs": [],
   "source": [
    "def getGoals(txt):\n",
    "    goals = {}\n",
    "    goal = re.findall(r\"[^\\W\\d_]+|\\d+\",txt)\n",
    "    goals[\"Player\"] = \" \".join(re.findall('[A-Z][^A-Z]*', goal[0]))\n",
    "    goals[\"Time\"] = goal[1]\n",
    "    goals[\"Type\"] = \"Goal\"\n",
    "    return goals"
   ]
  },
  {
   "cell_type": "code",
   "execution_count": 24,
   "metadata": {},
   "outputs": [],
   "source": [
    "def getFouls(txt):\n",
    "    fouls = {}\n",
    "    foul = re.findall(r\"[^\\W\\d_]+|\\d+\",txt)\n",
    "    fouls[\"Player\"] = \" \".join(re.findall('[A-Z][^A-Z]*', foul[0]))\n",
    "    fouls[\"Time\"] = foul[1]\n",
    "    fouls[\"Card\"] = \" \".join(re.findall('[A-Z][^A-Z]*', foul[2]))\n",
    "    return fouls"
   ]
  },
  {
   "cell_type": "code",
   "execution_count": 25,
   "metadata": {},
   "outputs": [],
   "source": [
    "def getPenalty(txt):\n",
    "    Penalties = {}\n",
    "    Penalty = re.findall(r\"[^\\W\\d_]+|\\d+\",txt)\n",
    "    Penalties[\"Player\"] = \" \".join(re.findall('[A-Z][^A-Z]*', Penalty[0]))\n",
    "    Penalties[\"Time\"] = Penalty[1]\n",
    "    Penalties[\"Type\"] = \"Penalty\"\n",
    "    return Penalties"
   ]
  },
  {
   "cell_type": "code",
   "execution_count": 26,
   "metadata": {},
   "outputs": [],
   "source": [
    "match_data = {\n",
    "    'HomeGoalScorer':[],\n",
    "    'AwayGoalScorer':[],\n",
    "    'HomeTeamFouls':[],\n",
    "    'AwayTeamFouls':[],\n",
    "    'HomeTeamAssist':[]\n",
    "    \n",
    "}\n",
    "\n",
    "def getDictionary(match_id):\n",
    "    url = \"https://www.premierleague.com/match/14410\"\n",
    "\n",
    "    r1 = requests.get(url)\n",
    "    coverpage = r1.content\n",
    "\n",
    "    soup1 = BeautifulSoup(coverpage, 'html5lib')\n",
    "    \n",
    "    getReferee(soup1)\n",
    "    getStadiumName(soup1)\n",
    "    getFullTimeScore(soup1)\n",
    "    getTeamNames(soup1)\n",
    "    getHomeTeamMatchEvents(soup1)\n",
    "    getAwayTeamMatchEvents(soup1)\n",
    "    getHomeAssists(soup1)\n",
    "    \n",
    "#     print()\n",
    "    \n",
    "#     filename = match_id +'json'\n",
    "#     with open(os.path.join(\"/Users/ankitmittal/Desktop/Thesis/Project/data/matchdata/\", filename), \"w\") as outfile:  \n",
    "#         json.dump(match_data, outfile)\n",
    "    \n",
    "    print(match_data)"
   ]
  },
  {
   "cell_type": "code",
   "execution_count": 31,
   "metadata": {},
   "outputs": [
    {
     "name": "stdout",
     "output_type": "stream",
     "text": [
      "{'HomeGoalScorer': [{'Player': 'Héctor Bellerín', 'Time': '8', 'Type': 'Goal'}, {'Player': 'Alexis Sánchez', 'Time': '27', 'Type': 'Goal'}, {'Player': 'Aaron Ramsey', 'Time': '90', 'Type': 'Goal'}, {'Player': 'Héctor Bellerín', 'Time': '8', 'Type': 'Goal'}, {'Player': 'Alexis Sánchez', 'Time': '27', 'Type': 'Goal'}, {'Player': 'Aaron Ramsey', 'Time': '90', 'Type': 'Goal'}], 'AwayGoalScorer': [{'Player': 'Romelu Lukaku', 'Time': '58', 'Type': 'Penalty'}, {'Player': 'Romelu Lukaku', 'Time': '58', 'Type': 'Penalty'}], 'HomeTeamFouls': [{'Player': 'Laurent Koscielny', 'Time': '14', 'Card': 'Red Card'}, {'Player': 'Laurent Koscielny', 'Time': '14', 'Card': 'Red Card'}], 'AwayTeamFouls': [], 'HomeTeamAssist': [{'Time': ['8', '27'], 'Player': 'Danny Welbeck'}, {'Time': ['90', '1'], 'Player': 'MesutÖzil'}], 'Referee': 'Michael Oliver', 'Stadium': 'Emirates Stadium, London', 'TotalHomeGoals': '3', 'TotalAwayGoals': '1', 'HomeTeam': 'Arsenal', 'AwayTeam': 'Everton'}\n"
     ]
    }
   ],
   "source": [
    "getDictionary('14410')"
   ]
  },
  {
   "cell_type": "code",
   "execution_count": 69,
   "metadata": {
    "scrolled": false
   },
   "outputs": [],
   "source": [
    "    url = \"https://www.premierleague.com/match/14414\"\n",
    "\n",
    "    r1 = requests.get(url)\n",
    "    coverpage = r1.content\n",
    "\n",
    "    soup1 = BeautifulSoup(coverpage, 'html5lib')\n",
    "    "
   ]
  },
  {
   "cell_type": "code",
   "execution_count": 30,
   "metadata": {},
   "outputs": [
    {
     "name": "stdout",
     "output_type": "stream",
     "text": [
      "DannyWelbeck8',27'\n",
      "MesutÖzil90+1'\n"
     ]
    }
   ],
   "source": [
    "xyz = (soup1.find_all('div', class_=\"matchAssistsContainer\"))\n",
    "for ptag in xyz:\n",
    "       for i in ptag.find_all('div', class_=\"home\"):\n",
    "            for x in i.find_all('div', class_=\"event\"):\n",
    "                s = x.text\n",
    "                txt = (re.sub(r\"\\s+\", \"\", s)) \n",
    "                getAssists(txt)"
   ]
  },
  {
   "cell_type": "code",
   "execution_count": 30,
   "metadata": {},
   "outputs": [],
   "source": [
    "def getHomeAssists(soup1):\n",
    "    xyz = (soup1.find_all('div', class_=\"matchAssistsContainer\"))\n",
    "    for ptag in xyz:\n",
    "        for i in ptag.find_all('div', class_=\"home\"):\n",
    "            for x in i.find_all('div', class_=\"event\"):\n",
    "                s = x.text\n",
    "                txt = (re.sub(r\"\\s+\", \"\", s)) \n",
    "                if txt is not None:\n",
    "                    match_data['HomeTeamAssist'].append(getAssists(txt))\n",
    "                else:\n",
    "                    print(\"No match\")"
   ]
  },
  {
   "cell_type": "code",
   "execution_count": 29,
   "metadata": {},
   "outputs": [],
   "source": [
    "def getAssists(txt):\n",
    "    assists = {'Time': []}\n",
    "    assist = re.findall(r\"[^\\W\\d_]+|\\d+\",txt)\n",
    "    assists[\"Player\"] = \" \".join(re.findall('[A-Z][^A-Z]*', assist[0]))\n",
    "    for i in range(1,len(assist)):   \n",
    "        assists['Time'].append(assist[i])\n",
    "    return assists"
   ]
  },
  {
   "cell_type": "code",
   "execution_count": 94,
   "metadata": {},
   "outputs": [
    {
     "name": "stdout",
     "output_type": "stream",
     "text": [
      "KasperSchmeichelCGoalkeeper\n",
      "Ron\n",
      "RobertZielerGoalkeeper\n",
      "RyanAllsopGoalkeeper\n",
      "AaronRamsdaleGoalkeeper\n"
     ]
    }
   ],
   "source": [
    "# def getGoalKeeper(soup1)\n",
    "count= 0\n",
    "x = soup1.find_all('li',{'class':'player','data-position':\"0\"})\n",
    "for i in x:\n",
    "    s = i.text\n",
    "#     print(s)\n",
    "    txt = (re.sub(r\"\\s+\", \"\", s))\n",
    "    txt1= (re.findall(r\"[^\\W\\d_\\-]+|\\d+\",txt))\n",
    "#     print((txt1))\n",
    "#     print(\" \".join(re.findall('[A-Z][^A-Z]*', txt1[1])))\n",
    "    for j in range(1,len(txt1)):\n",
    "        print(txt1[j])\n",
    "#     if count == 0:\n",
    "#         print( txt1 ) "
   ]
  },
  {
   "cell_type": "code",
   "execution_count": null,
   "metadata": {},
   "outputs": [],
   "source": []
  }
 ],
 "metadata": {
  "kernelspec": {
   "display_name": "Python 3",
   "language": "python",
   "name": "python3"
  },
  "language_info": {
   "codemirror_mode": {
    "name": "ipython",
    "version": 3
   },
   "file_extension": ".py",
   "mimetype": "text/x-python",
   "name": "python",
   "nbconvert_exporter": "python",
   "pygments_lexer": "ipython3",
   "version": "3.7.3"
  }
 },
 "nbformat": 4,
 "nbformat_minor": 4
}
